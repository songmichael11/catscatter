{
 "cells": [
  {
   "cell_type": "code",
   "execution_count": null,
   "id": "2b14763a",
   "metadata": {},
   "outputs": [
    {
     "ename": "TypeError",
     "evalue": "catscatter() missing 1 required positional argument: 'col_color'",
     "output_type": "error",
     "traceback": [
      "\u001b[31m---------------------------------------------------------------------------\u001b[39m",
      "\u001b[31mTypeError\u001b[39m                                 Traceback (most recent call last)",
      "\u001b[36mCell\u001b[39m\u001b[36m \u001b[39m\u001b[32mIn[1]\u001b[39m\u001b[32m, line 12\u001b[39m\n\u001b[32m      6\u001b[39m data=pd.DataFrame({\u001b[33m'\u001b[39m\u001b[33mfriend\u001b[39m\u001b[33m'\u001b[39m:[\u001b[33m'\u001b[39m\u001b[33mPeter\u001b[39m\u001b[33m'\u001b[39m,\u001b[33m'\u001b[39m\u001b[33mMarc\u001b[39m\u001b[33m'\u001b[39m,\u001b[33m'\u001b[39m\u001b[33mIgnacio\u001b[39m\u001b[33m'\u001b[39m,\u001b[33m'\u001b[39m\u001b[33mMarta\u001b[39m\u001b[33m'\u001b[39m,\u001b[33m'\u001b[39m\u001b[33mMarta\u001b[39m\u001b[33m'\u001b[39m,\u001b[33m'\u001b[39m\u001b[33mIgnacio\u001b[39m\u001b[33m'\u001b[39m,\u001b[33m'\u001b[39m\u001b[33mMaria\u001b[39m\u001b[33m'\u001b[39m,\u001b[33m'\u001b[39m\u001b[33mPedro\u001b[39m\u001b[33m'\u001b[39m,\u001b[33m'\u001b[39m\u001b[33mBea\u001b[39m\u001b[33m'\u001b[39m,\u001b[33m'\u001b[39m\u001b[33mPedro\u001b[39m\u001b[33m'\u001b[39m],\n\u001b[32m      7\u001b[39m                   \u001b[33m'\u001b[39m\u001b[33mfavorite_food\u001b[39m\u001b[33m'\u001b[39m:[\u001b[33m'\u001b[39m\u001b[33mSalmon\u001b[39m\u001b[33m'\u001b[39m,\u001b[33m'\u001b[39m\u001b[33mChocolate\u001b[39m\u001b[33m'\u001b[39m,\u001b[33m'\u001b[39m\u001b[33mHamburger\u001b[39m\u001b[33m'\u001b[39m,\u001b[33m'\u001b[39m\u001b[33mPizza\u001b[39m\u001b[33m'\u001b[39m,\u001b[33m'\u001b[39m\u001b[33mApples\u001b[39m\u001b[33m'\u001b[39m,\u001b[33m'\u001b[39m\u001b[33mPizza\u001b[39m\u001b[33m'\u001b[39m,\u001b[33m'\u001b[39m\u001b[33mPizza\u001b[39m\u001b[33m'\u001b[39m,\u001b[33m'\u001b[39m\u001b[33mHamburger\u001b[39m\u001b[33m'\u001b[39m,\u001b[33m'\u001b[39m\u001b[33mSalmon\u001b[39m\u001b[33m'\u001b[39m,\u001b[33m'\u001b[39m\u001b[33mBanana\u001b[39m\u001b[33m'\u001b[39m],\n\u001b[32m      8\u001b[39m                   \u001b[33m'\u001b[39m\u001b[33mfavorite_grade\u001b[39m\u001b[33m'\u001b[39m:[\u001b[32m1\u001b[39m,\u001b[32m5\u001b[39m,\u001b[32m5\u001b[39m,\u001b[32m3\u001b[39m,\u001b[32m2\u001b[39m,\u001b[32m3\u001b[39m,\u001b[32m4\u001b[39m,\u001b[32m4\u001b[39m,\u001b[32m3\u001b[39m,\u001b[32m1\u001b[39m],\n\u001b[32m      9\u001b[39m                   \u001b[33m'\u001b[39m\u001b[33mfavorite_test\u001b[39m\u001b[33m'\u001b[39m:[\u001b[32m1\u001b[39m,\u001b[32m5\u001b[39m,\u001b[32m5\u001b[39m,\u001b[32m3\u001b[39m,\u001b[32m2\u001b[39m,\u001b[32m3\u001b[39m,\u001b[32m4\u001b[39m,\u001b[32m4\u001b[39m,\u001b[32m3\u001b[39m,\u001b[32m1\u001b[39m]})\n\u001b[32m     11\u001b[39m \u001b[38;5;66;03m#plot it\u001b[39;00m\n\u001b[32m---> \u001b[39m\u001b[32m12\u001b[39m \u001b[43mcatscatter\u001b[49m\u001b[43m(\u001b[49m\u001b[43mdata\u001b[49m\u001b[43m,\u001b[49m\u001b[33;43m'\u001b[39;49m\u001b[33;43mfriend\u001b[39;49m\u001b[33;43m'\u001b[39;49m\u001b[43m,\u001b[49m\u001b[33;43m'\u001b[39;49m\u001b[33;43mfavorite_food\u001b[39;49m\u001b[33;43m'\u001b[39;49m\u001b[43m,\u001b[49m\u001b[33;43m'\u001b[39;49m\u001b[33;43mfavorite_grade\u001b[39;49m\u001b[33;43m'\u001b[39;49m\u001b[43m)\u001b[49m\n\u001b[32m     13\u001b[39m plt.show()\n",
      "\u001b[31mTypeError\u001b[39m: catscatter() missing 1 required positional argument: 'col_color'"
     ]
    }
   ],
   "source": [
    "import pandas as pd\n",
    "import matplotlib.pyplot as plt\n",
    "from catscatter import catscatter\n",
    "\n",
    "# example data frame\n",
    "data=pd.DataFrame({'friend':['Peter','Marc','Ignacio','Marta','Marta','Ignacio','Maria','Pedro','Bea','Pedro'],\n",
    "                  'favorite_food':['Salmon','Chocolate','Hamburger','Pizza','Apples','Pizza','Pizza','Hamburger','Salmon','Banana'],\n",
    "                  'favorite_grade':[1,5,5,3,2,3,4,4,3,1],\n",
    "                  'favorite_test':[1,5,5,3,2,3,4,4,3,1]})\n",
    "\n",
    "#plot it\n",
    "catscatter(data,'friend','favorite_food','favorite_grade', 'favorite_test')\n",
    "plt.show()"
   ]
  }
 ],
 "metadata": {
  "kernelspec": {
   "display_name": "kaerwell",
   "language": "python",
   "name": "python3"
  },
  "language_info": {
   "codemirror_mode": {
    "name": "ipython",
    "version": 3
   },
   "file_extension": ".py",
   "mimetype": "text/x-python",
   "name": "python",
   "nbconvert_exporter": "python",
   "pygments_lexer": "ipython3",
   "version": "3.11.13"
  }
 },
 "nbformat": 4,
 "nbformat_minor": 5
}
